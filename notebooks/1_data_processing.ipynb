{
 "cells": [
  {
   "cell_type": "markdown",
   "id": "6ce26961-1f95-49b3-a90d-3ca7676b4006",
   "metadata": {},
   "source": [
    "# Objetivo: Processar e integrar dados do iFood com PySpark para análise de campanhas e comportamento de clientes.\n",
    "Fluxo:\n",
    "\n",
    "    Importa bibliotecas e inicia sessão Spark.\n",
    "\n",
    "    Carrega e trata offers, profiles e transactions.\n",
    "\n",
    "    Integra datasets via join.\n",
    "\n",
    "    Calcula métricas de funil e comportamento.\n",
    "\n",
    "    Gera base final para análise e modelagem."
   ]
  },
  {
   "cell_type": "markdown",
   "id": "0626aada-7c37-4fba-8c76-097b277f362f",
   "metadata": {},
   "source": [
    "# 1. Importando bibliotecas e Configuração do Spark"
   ]
  },
  {
   "cell_type": "code",
   "execution_count": 1,
   "id": "cf69c274-e5c8-49ae-905c-bfff36021dc5",
   "metadata": {},
   "outputs": [],
   "source": [
    "from pyspark.sql import SparkSession\n",
    "from pyspark.sql.functions import col, sum , explode, when, map_keys, stddev, mean, count, coalesce, array_contains, max as _max\n",
    "from pyspark.sql.types import StructType, StructField, StringType, IntegerType, FloatType, ArrayType, MapType"
   ]
  },
  {
   "cell_type": "markdown",
   "id": "09b98761-ffd7-4d68-897f-3417aef035fb",
   "metadata": {},
   "source": [
    "### Criar sessão Spark"
   ]
  },
  {
   "cell_type": "code",
   "execution_count": 2,
   "id": "7ae896a5-855d-4b09-8b02-c799e6000fc5",
   "metadata": {},
   "outputs": [],
   "source": [
    "spark = SparkSession.builder \\\n",
    "    .appName(\"iFood Data Processing\") \\\n",
    "    .getOrCreate()"
   ]
  },
  {
   "cell_type": "code",
   "execution_count": 3,
   "id": "13d98399-4b73-4195-b06a-4d4d79315d7b",
   "metadata": {},
   "outputs": [],
   "source": [
    "RAW_PATH = \"../data/raw/\"\n",
    "PROCESSED_PATH = \"../data/processed/\""
   ]
  },
  {
   "cell_type": "markdown",
   "id": "a41a9512-6013-4d6d-8370-b3a0bafcf3e9",
   "metadata": {},
   "source": [
    "# 2. Carregando e Pré-processando os Dados"
   ]
  },
  {
   "cell_type": "markdown",
   "id": "61691161-8d0b-41d7-a190-71f21d0cc99e",
   "metadata": {},
   "source": [
    "## Offers\n",
    "\n",
    "As ofertas podem ser enviadas por múltiplos canais. Para facilitar a análise, transformamos a coluna channels em colunas binárias (mobile, social, web), onde 1 indica que o canal foi usado e 0 indica o contrário. A coluna email foi removida, pois todas as ofertas foram enviadas por e-mail, tornando-a uma variável com pouca utilidade para a análise preditiva."
   ]
  },
  {
   "cell_type": "code",
   "execution_count": 4,
   "id": "0b686742-d2e1-4e04-babe-aafccfcde280",
   "metadata": {},
   "outputs": [],
   "source": [
    "offers_schema = StructType([\n",
    "    StructField(\"id\", StringType(), True),\n",
    "    StructField(\"offer_type\", StringType(), True),\n",
    "    StructField(\"min_value\", IntegerType(), True),\n",
    "    StructField(\"duration\", IntegerType(), True),\n",
    "    StructField(\"discount_value\", IntegerType(), True),\n",
    "    StructField(\"channels\", ArrayType(StringType()), True)\n",
    "])\n",
    "\n",
    "offers_df = spark.read.json(f\"{RAW_PATH}offers.json\", schema=offers_schema)\n",
    "offers_df = offers_df.withColumnRenamed(\"id\", \"offer_id\")  # renomear para evitar conflito com IDs de clientes"
   ]
  },
  {
   "cell_type": "code",
   "execution_count": 5,
   "id": "a460b090-cf53-45b2-a8f2-df303665d71d",
   "metadata": {},
   "outputs": [
    {
     "name": "stdout",
     "output_type": "stream",
     "text": [
      "+-------+\n",
      "|channel|\n",
      "+-------+\n",
      "| mobile|\n",
      "|  email|\n",
      "| social|\n",
      "|    web|\n",
      "+-------+\n",
      "\n",
      "None\n"
     ]
    }
   ],
   "source": [
    "# Extrair todos os canais distintos\n",
    "channels_list = offers_df.select(explode(col(\"channels\")).alias(\"channel\")) \\\n",
    "                       .distinct()\n",
    "print(channels_list.show())"
   ]
  },
  {
   "cell_type": "code",
   "execution_count": 6,
   "id": "b68e7b2e-ff6c-411d-9a2a-add193bad641",
   "metadata": {},
   "outputs": [
    {
     "name": "stdout",
     "output_type": "stream",
     "text": [
      "+--------------------+-------------+---------+--------------+------+------+---+\n",
      "|            offer_id|   offer_type|min_value|discount_value|mobile|social|web|\n",
      "+--------------------+-------------+---------+--------------+------+------+---+\n",
      "|ae264e3637204a6fb...|         bogo|       10|            10|     1|     1|  0|\n",
      "|4d5c57ea9a6940dd8...|         bogo|       10|            10|     1|     1|  1|\n",
      "|3f207df678b143eea...|informational|        0|             0|     1|     0|  1|\n",
      "|9b98b8c7a33c4b65b...|         bogo|        5|             5|     1|     0|  1|\n",
      "|0b1e1539f2cc45b7b...|     discount|       20|             5|     0|     0|  1|\n",
      "|2298d6c36e964ae4a...|     discount|        7|             3|     1|     1|  1|\n",
      "|fafdcd668e3743c1b...|     discount|       10|             2|     1|     1|  1|\n",
      "|5a8bc65990b245e5a...|informational|        0|             0|     1|     1|  0|\n",
      "|f19421c1d4aa40978...|         bogo|        5|             5|     1|     1|  1|\n",
      "|2906b810c7d441179...|     discount|       10|             2|     1|     0|  1|\n",
      "+--------------------+-------------+---------+--------------+------+------+---+\n",
      "\n"
     ]
    }
   ],
   "source": [
    "channels_list = ['mobile','email','social','web']\n",
    "#Criar colunas binárias para cada canal\n",
    "for channel in channels_list:\n",
    "    offers_df = offers_df.withColumn(\n",
    "        channel,\n",
    "        array_contains(col(\"channels\"), channel).cast(\"int\")\n",
    "    )\n",
    "\n",
    "#retirando email pois todas as ofertas foram enviadas por emaiol, então não faz sentido acompanhar\n",
    "#duration também sempre vazio\n",
    "offers_df = offers_df.drop(\"channels\",\"duration\",\"email\")\n",
    "\n",
    "offers_df.show()"
   ]
  },
  {
   "cell_type": "markdown",
   "id": "b538c885-d8a5-4552-9856-12f123565678",
   "metadata": {},
   "source": [
    "## Profiles\n",
    "\n",
    "O primeiro filtro remove clientes com o gênero 'O', que provavelmente representam dados faltantes ou categorias indefinidas. O segundo filtro remove os clientes com informações de gênero e/ou limite do cartão de crédito ausentes. Essa limpeza garante que o modelo só usará dados completos."
   ]
  },
  {
   "cell_type": "code",
   "execution_count": 7,
   "id": "c9d8a79f-2c7c-4433-800c-b7059e5fbaab",
   "metadata": {},
   "outputs": [],
   "source": [
    "profile_schema = StructType([\n",
    "    StructField(\"age\", IntegerType(), True),\n",
    "    StructField(\"registeredon\", StringType(), True),\n",
    "    StructField(\"gender\", StringType(), True),\n",
    "    StructField(\"id\", StringType(), True),\n",
    "    StructField(\"credit_card_limit\", FloatType(), True)\n",
    "])\n",
    "\n",
    "profile_df = spark.read.json(f\"{RAW_PATH}profile.json\", schema=profile_schema)\n"
   ]
  },
  {
   "cell_type": "code",
   "execution_count": 8,
   "id": "67eddd98-94f5-4f1d-b707-d243d59e6714",
   "metadata": {},
   "outputs": [],
   "source": [
    "profile_df = profile_df.where(col(\"gender\")!='O')"
   ]
  },
  {
   "cell_type": "code",
   "execution_count": 9,
   "id": "43ab6063-6b0e-4ed1-821b-a68855641cb1",
   "metadata": {},
   "outputs": [
    {
     "name": "stdout",
     "output_type": "stream",
     "text": [
      "2387\n"
     ]
    }
   ],
   "source": [
    "# Temos 2175 registros de profiles sem 'gender' e/ou 'credit_card_limit'. Como essa informação pode ser bem relevante, vamos retirar esses casos sem registros\n",
    "print((17000-profile_df.where((col(\"credit_card_limit\").isNotNull()&col(\"gender\").isNotNull()&col(\"age\").isNotNull()&col(\"id\").isNotNull())).count()))"
   ]
  },
  {
   "cell_type": "code",
   "execution_count": 10,
   "id": "ce5e4b54-fc58-4a5c-b693-53a59053d273",
   "metadata": {},
   "outputs": [],
   "source": [
    "profile_df = profile_df.where((col(\"credit_card_limit\").isNotNull()&col(\"gender\").isNotNull())) \\\n",
    "                        .select(\"id\",\"age\",\"gender\",\"credit_card_limit\").withColumnRenamed(\"id\", \"account_id\")"
   ]
  },
  {
   "cell_type": "code",
   "execution_count": 11,
   "id": "cdde7354-027a-4103-bab1-8bd94641b2d2",
   "metadata": {},
   "outputs": [
    {
     "name": "stdout",
     "output_type": "stream",
     "text": [
      "+--------------------+---+------+-----------------+\n",
      "|          account_id|age|gender|credit_card_limit|\n",
      "+--------------------+---+------+-----------------+\n",
      "|0610b486422d4921a...| 55|     F|         112000.0|\n",
      "|78afa995795e4d85b...| 75|     F|         100000.0|\n",
      "|e2127556f4f64592b...| 68|     M|          70000.0|\n",
      "|389bc3fa690240e79...| 65|     M|          53000.0|\n",
      "|2eeac8d8feae4a8ca...| 58|     M|          51000.0|\n",
      "|aa4862eba776480b8...| 61|     F|          57000.0|\n",
      "|e12aeaf2d47d42479...| 26|     M|          46000.0|\n",
      "|31dda685af34476ca...| 62|     F|          71000.0|\n",
      "|62cf5e10845442329...| 49|     M|          52000.0|\n",
      "|6445de3b47274c759...| 57|     M|          42000.0|\n",
      "+--------------------+---+------+-----------------+\n",
      "only showing top 10 rows\n"
     ]
    }
   ],
   "source": [
    "profile_df.show(10)"
   ]
  },
  {
   "cell_type": "markdown",
   "id": "08bd3cfc-6462-4724-b33b-7238db0f21e0",
   "metadata": {},
   "source": [
    "## Transactions\n",
    "O campo value nas transações é semi-estruturado (JSON), com chaves inconsistentes (offer_id e offer id). Padronizamos esses campos para facilitar a manipulação. A coluna transaction_value é criada a partir do campo amount para registrar o valor da transação."
   ]
  },
  {
   "cell_type": "code",
   "execution_count": 12,
   "id": "464a839f-ca6d-4b82-9f83-58839eeee503",
   "metadata": {},
   "outputs": [
    {
     "name": "stdout",
     "output_type": "stream",
     "text": [
      "Chaves encontradas dentro de 'value': ['offer_id', 'offer id', 'amount', 'reward']\n"
     ]
    }
   ],
   "source": [
    "transactions_schema = StructType([\n",
    "    StructField(\"event\", StringType(), True),\n",
    "    StructField(\"account_id\", StringType(), True),\n",
    "    StructField(\"time_since_test_start\", IntegerType(), True),\n",
    "    StructField(\"value\", MapType(StringType(), StringType()), True)\n",
    "])\n",
    "\n",
    "transactions_df = spark.read.json(f\"{RAW_PATH}transactions.json\", schema=transactions_schema)\n",
    "# Extrair todas as chaves presentes no campo 'value'\n",
    "keys_df = transactions_df.select(explode(map_keys(col(\"value\"))).alias(\"key\"))\n",
    "\n",
    "# Listar chaves distintas\n",
    "distinct_keys = keys_df.distinct().collect()\n",
    "distinct_keys_list = [row[\"key\"] for row in distinct_keys]\n",
    "print(\"Chaves encontradas dentro de 'value':\", distinct_keys_list)"
   ]
  },
  {
   "cell_type": "code",
   "execution_count": 13,
   "id": "c58bd3d6-98e3-4944-9ea1-841b9edf1e43",
   "metadata": {},
   "outputs": [],
   "source": [
    "# Como temos offer_id e offer id, padronizamos abaixo para offer_id\n",
    "# Criar colunas específicas a partir da chave dentro de 'value'\n",
    "transactions_df_padronizado = transactions_df.withColumn(\"offer_id\",coalesce(col(\"value\").getItem(\"offer_id\"),col(\"value\").getItem(\"offer id\"))) \\\n",
    "                                 .withColumn(\"transaction_value\", col(\"value\").getItem(\"amount\").cast(FloatType())) \\\n",
    "                                 .withColumn(\"reward\", col(\"value\").getItem(\"reward\").cast(FloatType())) \\\n",
    "                                 .drop(\"value\")"
   ]
  },
  {
   "cell_type": "code",
   "execution_count": 14,
   "id": "7b66c89f-fce4-4a24-b911-7c06952ff1bb",
   "metadata": {},
   "outputs": [],
   "source": [
    "transactions_df_padronizado = transactions_df_padronizado.fillna('no offer', subset=['offer_id'])"
   ]
  },
  {
   "cell_type": "code",
   "execution_count": 15,
   "id": "8adcd719-6c5c-4763-a831-3c42f48623d0",
   "metadata": {},
   "outputs": [
    {
     "name": "stdout",
     "output_type": "stream",
     "text": [
      "+---------------+\n",
      "|          event|\n",
      "+---------------+\n",
      "|    transaction|\n",
      "| offer received|\n",
      "|offer completed|\n",
      "|   offer viewed|\n",
      "+---------------+\n",
      "\n"
     ]
    }
   ],
   "source": [
    "# Seleciona a coluna 'event' e encontra os valores distintos\n",
    "valores_event = transactions_df_padronizado.select(col(\"event\")).distinct()\n",
    "\n",
    "# Mostra os resultados.\n",
    "valores_event.show()"
   ]
  },
  {
   "cell_type": "code",
   "execution_count": 16,
   "id": "a2b78f74-8e97-48bb-8c8c-eec5944d4df7",
   "metadata": {},
   "outputs": [],
   "source": [
    "transactions_df_padronizado = transactions_df_padronizado \\\n",
    "    .withColumn(\"is_offer_received\", when(col(\"event\") == \"offer received\", 1).otherwise(0)) \\\n",
    "    .withColumn(\"is_offer_viewed\", when(col(\"event\") == \"offer viewed\", 1).otherwise(0)) \\\n",
    "    .withColumn(\"is_offer_completed\", when(col(\"event\") == \"offer completed\", 1).otherwise(0)) \\\n",
    "    .withColumn(\"is_transaction\", when(col(\"event\") == \"transaction\", 1).otherwise(0))"
   ]
  },
  {
   "cell_type": "code",
   "execution_count": 17,
   "id": "54c6be63-9e2d-493b-860e-87bb33fd33a7",
   "metadata": {},
   "outputs": [],
   "source": [
    "# Agregar por cliente (1 se ocorreu pelo menos uma vez, senão 0)\n",
    "funnel_df = transactions_df_padronizado.groupBy(\"account_id\",\"offer_id\").agg(\n",
    "    _max(\"is_offer_completed\").alias(\"has_offer_completed\")\n",
    ")"
   ]
  },
  {
   "cell_type": "markdown",
   "id": "239910ab-68a2-420d-bb18-cd8c8a8baad9",
   "metadata": {},
   "source": [
    "### As transações são categorizadas por eventos (offer received, offer viewed, offer completed, transaction). Como nem todas as ofertas visualizadas são registradas, focamos na métrica has_offer_completed, que é mais confiável e representa o sucesso real de uma oferta. Agrupamos por cliente e oferta para criar nossa tabela de fatos, onde cada linha representa o resultado de uma oferta para um cliente.\n",
    "\n",
    "### Outra coisa é que o reward é o discount_amount dos dados das ofertas, então a gente não precisa ter isso aqui. O mais importante é saber qual oferta foi completada ou não."
   ]
  },
  {
   "cell_type": "code",
   "execution_count": 18,
   "id": "010e6192-18d0-483e-b5db-38a0728521cd",
   "metadata": {},
   "outputs": [
    {
     "name": "stdout",
     "output_type": "stream",
     "text": [
      "+--------------------+-----------------------+\n",
      "|            offer_id|has_offer_completed_sum|\n",
      "+--------------------+-----------------------+\n",
      "|0b1e1539f2cc45b7b...|                   2978|\n",
      "|4d5c57ea9a6940dd8...|                   2885|\n",
      "|9b98b8c7a33c4b65b...|                   3784|\n",
      "|f19421c1d4aa40978...|                   3741|\n",
      "|fafdcd668e3743c1b...|                   4530|\n",
      "|ae264e3637204a6fb...|                   3177|\n",
      "|5a8bc65990b245e5a...|                      0|\n",
      "|2298d6c36e964ae4a...|                   4421|\n",
      "|2906b810c7d441179...|                   3480|\n",
      "|            no offer|                      0|\n",
      "|3f207df678b143eea...|                      0|\n",
      "+--------------------+-----------------------+\n",
      "\n"
     ]
    }
   ],
   "source": [
    "funnel_df = funnel_df.withColumn(\"has_offer_completed\", col(\"has_offer_completed\").cast(\"int\"))\n",
    "funnel_df.groupby(\"offer_id\").agg(\n",
    "    sum(\"has_offer_completed\").alias(\"has_offer_completed_sum\")\n",
    ").show()"
   ]
  },
  {
   "cell_type": "code",
   "execution_count": 19,
   "id": "385d4540-8bd9-418a-a68f-e9446f1973db",
   "metadata": {},
   "outputs": [],
   "source": [
    "funnel_profile_df = funnel_df.join(profile_df, on=\"account_id\", how=\"left\")\n",
    "funnel_profile_df = funnel_profile_df.join(offers_df, on=\"offer_id\", how=\"left\")"
   ]
  },
  {
   "cell_type": "code",
   "execution_count": 20,
   "id": "3f5a86ff-d279-4023-b8f0-a8e9f3e2f272",
   "metadata": {},
   "outputs": [
    {
     "data": {
      "text/plain": [
       "79866"
      ]
     },
     "execution_count": 20,
     "metadata": {},
     "output_type": "execute_result"
    }
   ],
   "source": [
    "funnel_profile_df.count()"
   ]
  },
  {
   "cell_type": "code",
   "execution_count": 21,
   "id": "c0c7c3a0-30e5-442f-8de8-dc1681bcdff1",
   "metadata": {},
   "outputs": [
    {
     "data": {
      "text/plain": [
       "54453"
      ]
     },
     "execution_count": 21,
     "metadata": {},
     "output_type": "execute_result"
    }
   ],
   "source": [
    "funnel_profile_df = funnel_profile_df.na.drop()\n",
    "\n",
    "funnel_profile_df.count()"
   ]
  },
  {
   "cell_type": "code",
   "execution_count": 22,
   "id": "5cddc2ae-99a0-4288-936a-0927ccd9d0a1",
   "metadata": {},
   "outputs": [
    {
     "name": "stdout",
     "output_type": "stream",
     "text": [
      "+--------------------+--------------------+-------------------+---+------+-----------------+-------------+---------+--------------+------+------+---+\n",
      "|            offer_id|          account_id|has_offer_completed|age|gender|credit_card_limit|   offer_type|min_value|discount_value|mobile|social|web|\n",
      "+--------------------+--------------------+-------------------+---+------+-----------------+-------------+---------+--------------+------+------+---+\n",
      "|f19421c1d4aa40978...|0861b9ca31b741bb8...|                  1| 73|     M|          92000.0|         bogo|        5|             5|     1|     1|  1|\n",
      "|3f207df678b143eea...|4ecbfa77f6f84e779...|                  0| 83|     F|          58000.0|informational|        0|             0|     1|     0|  1|\n",
      "|4d5c57ea9a6940dd8...|523e2d85f3d94eefb...|                  1| 47|     F|          65000.0|         bogo|       10|            10|     1|     1|  1|\n",
      "|2906b810c7d441179...|d57bd2200e7b44c6b...|                  0| 56|     M|          47000.0|     discount|       10|             2|     1|     0|  1|\n",
      "|5a8bc65990b245e5a...|7248fc98eb6c4b1fb...|                  0| 34|     M|          65000.0|informational|        0|             0|     1|     1|  0|\n",
      "|3f207df678b143eea...|f70bb1c612b5426c8...|                  0| 72|     M|          67000.0|informational|        0|             0|     1|     0|  1|\n",
      "|5a8bc65990b245e5a...|dd7216675c0c49149...|                  0| 61|     M|         119000.0|informational|        0|             0|     1|     1|  0|\n",
      "|9b98b8c7a33c4b65b...|16fb582d943d42c4a...|                  1| 57|     F|          38000.0|         bogo|        5|             5|     1|     0|  1|\n",
      "|4d5c57ea9a6940dd8...|0cfb5a7caa0e4bc89...|                  1| 49|     F|         104000.0|         bogo|       10|            10|     1|     1|  1|\n",
      "|2906b810c7d441179...|f16dd6ace9f94998b...|                  1| 54|     F|          43000.0|     discount|       10|             2|     1|     0|  1|\n",
      "|2906b810c7d441179...|19123568af6b42d4a...|                  0| 68|     M|          33000.0|     discount|       10|             2|     1|     0|  1|\n",
      "|9b98b8c7a33c4b65b...|ef8216e6e8c44ce08...|                  1| 61|     M|          34000.0|         bogo|        5|             5|     1|     0|  1|\n",
      "|9b98b8c7a33c4b65b...|bd1e687ace0b4d62a...|                  0| 40|     M|          41000.0|         bogo|        5|             5|     1|     0|  1|\n",
      "|4d5c57ea9a6940dd8...|10af934bbfb641a49...|                  1| 64|     F|         108000.0|         bogo|       10|            10|     1|     1|  1|\n",
      "|9b98b8c7a33c4b65b...|29033cded35c48d99...|                  1| 74|     F|          39000.0|         bogo|        5|             5|     1|     0|  1|\n",
      "|3f207df678b143eea...|106c1ac833bc4bf7a...|                  0| 64|     F|          87000.0|informational|        0|             0|     1|     0|  1|\n",
      "|f19421c1d4aa40978...|42047da7b4444c408...|                  1| 47|     M|          46000.0|         bogo|        5|             5|     1|     1|  1|\n",
      "|9b98b8c7a33c4b65b...|797a3cf770b645759...|                  0| 64|     F|          81000.0|         bogo|        5|             5|     1|     0|  1|\n",
      "|4d5c57ea9a6940dd8...|985cee18d3924059a...|                  0| 76|     M|          69000.0|         bogo|       10|            10|     1|     1|  1|\n",
      "|ae264e3637204a6fb...|98da26ac30d94be69...|                  1| 45|     M|          93000.0|         bogo|       10|            10|     1|     1|  0|\n",
      "+--------------------+--------------------+-------------------+---+------+-----------------+-------------+---------+--------------+------+------+---+\n",
      "only showing top 20 rows\n"
     ]
    }
   ],
   "source": [
    "funnel_profile_df.show()"
   ]
  },
  {
   "cell_type": "markdown",
   "id": "877d6ecf-4099-440c-be7c-26925fd2022c",
   "metadata": {},
   "source": [
    "# Importante\n",
    "Em nosso conjunto de dados, observamos que muitos clientes recebem múltiplas ofertas, porém não dispomos das informações sobre o momento exato em que as ofertas foram enviadas nem das datas das compras realizadas. Essa ausência de dados temporais impede uma análise precisa da relação causal entre oferta e retenção do cliente.\n",
    "\n",
    "Isso representa um desafio, pois uma oferta pode gerar um efeito de “awareness” no cliente, aproximando-o do estabelecimento e influenciando compras futuras, ainda que a oferta em si não seja diretamente utilizada na compra. Portanto, a ausência da sequência temporal entre envio da oferta e compra dificulta distinguir quais ofertas foram efetivamente responsáveis pela fidelização.\n",
    "\n",
    "Diante dessa limitação, neste projeto, focaremos na medição da conversão das ofertas com base nos dados disponíveis, buscando identificar as melhores combinações de ofertas a serem enviadas que resultem em compras efetivas."
   ]
  },
  {
   "cell_type": "code",
   "execution_count": 23,
   "id": "d0bd54ac-e29c-4319-aff8-add8b8e91ed6",
   "metadata": {},
   "outputs": [],
   "source": [
    "# Nenhuma oferta informational está diretamente relacionada a uma compra\n",
    "final_data = funnel_profile_df.where(col('offer_type') != \"informational\")"
   ]
  },
  {
   "cell_type": "code",
   "execution_count": 24,
   "id": "4c4c794b-1f24-4b00-9e94-e3c4eb7222a3",
   "metadata": {},
   "outputs": [
    {
     "name": "stdout",
     "output_type": "stream",
     "text": [
      "+--------------------+--------------------+-------------------+---+------+-----------------+----------+---------+--------------+------+------+---+\n",
      "|            offer_id|          account_id|has_offer_completed|age|gender|credit_card_limit|offer_type|min_value|discount_value|mobile|social|web|\n",
      "+--------------------+--------------------+-------------------+---+------+-----------------+----------+---------+--------------+------+------+---+\n",
      "|f19421c1d4aa40978...|0861b9ca31b741bb8...|                  1| 73|     M|          92000.0|      bogo|        5|             5|     1|     1|  1|\n",
      "|4d5c57ea9a6940dd8...|523e2d85f3d94eefb...|                  1| 47|     F|          65000.0|      bogo|       10|            10|     1|     1|  1|\n",
      "|2906b810c7d441179...|d57bd2200e7b44c6b...|                  0| 56|     M|          47000.0|  discount|       10|             2|     1|     0|  1|\n",
      "|9b98b8c7a33c4b65b...|16fb582d943d42c4a...|                  1| 57|     F|          38000.0|      bogo|        5|             5|     1|     0|  1|\n",
      "|4d5c57ea9a6940dd8...|0cfb5a7caa0e4bc89...|                  1| 49|     F|         104000.0|      bogo|       10|            10|     1|     1|  1|\n",
      "|2906b810c7d441179...|f16dd6ace9f94998b...|                  1| 54|     F|          43000.0|  discount|       10|             2|     1|     0|  1|\n",
      "|2906b810c7d441179...|19123568af6b42d4a...|                  0| 68|     M|          33000.0|  discount|       10|             2|     1|     0|  1|\n",
      "|9b98b8c7a33c4b65b...|ef8216e6e8c44ce08...|                  1| 61|     M|          34000.0|      bogo|        5|             5|     1|     0|  1|\n",
      "|9b98b8c7a33c4b65b...|bd1e687ace0b4d62a...|                  0| 40|     M|          41000.0|      bogo|        5|             5|     1|     0|  1|\n",
      "|4d5c57ea9a6940dd8...|10af934bbfb641a49...|                  1| 64|     F|         108000.0|      bogo|       10|            10|     1|     1|  1|\n",
      "|9b98b8c7a33c4b65b...|29033cded35c48d99...|                  1| 74|     F|          39000.0|      bogo|        5|             5|     1|     0|  1|\n",
      "|f19421c1d4aa40978...|42047da7b4444c408...|                  1| 47|     M|          46000.0|      bogo|        5|             5|     1|     1|  1|\n",
      "|9b98b8c7a33c4b65b...|797a3cf770b645759...|                  0| 64|     F|          81000.0|      bogo|        5|             5|     1|     0|  1|\n",
      "|4d5c57ea9a6940dd8...|985cee18d3924059a...|                  0| 76|     M|          69000.0|      bogo|       10|            10|     1|     1|  1|\n",
      "|ae264e3637204a6fb...|98da26ac30d94be69...|                  1| 45|     M|          93000.0|      bogo|       10|            10|     1|     1|  0|\n",
      "|2298d6c36e964ae4a...|bdcbab43c2f34ca2a...|                  1| 49|     M|          70000.0|  discount|        7|             3|     1|     1|  1|\n",
      "|0b1e1539f2cc45b7b...|1aa26e8aea6440de9...|                  0| 69|     M|          48000.0|  discount|       20|             5|     0|     0|  1|\n",
      "|2906b810c7d441179...|ef3151875cd7450c8...|                  0| 55|     F|         108000.0|  discount|       10|             2|     1|     0|  1|\n",
      "|2298d6c36e964ae4a...|954b214031734fff8...|                  0| 46|     M|          59000.0|  discount|        7|             3|     1|     1|  1|\n",
      "|fafdcd668e3743c1b...|d0ab05be7544435f9...|                  1| 44|     F|          62000.0|  discount|       10|             2|     1|     1|  1|\n",
      "+--------------------+--------------------+-------------------+---+------+-----------------+----------+---------+--------------+------+------+---+\n",
      "only showing top 20 rows\n"
     ]
    }
   ],
   "source": [
    "final_data.show()"
   ]
  },
  {
   "cell_type": "markdown",
   "id": "d4122412-cb86-43a2-97e6-06ab70b3ef4b",
   "metadata": {},
   "source": [
    "### Análise rápida dos dados\n",
    "Para entender melhor os grupos que completaram e os que não completaram as ofertas, analisamos algumas estatísticas descritivas. Os clientes que completam ofertas tendem a ser um pouco mais velhos, ter limites de cartão de crédito mais altos e as ofertas que aceitaram geralmente tinham valores de desconto e valores mínimos de compra menores. Isso sugere que os clientes mais velhos e com maior poder aquisitivo são mais propensos a usar ofertas, especialmente quando são fáceis de converter (menor valor mínimo)."
   ]
  },
  {
   "cell_type": "code",
   "execution_count": 25,
   "id": "76dfb3c1-f33f-473d-baa0-c291a7b0dac8",
   "metadata": {},
   "outputs": [
    {
     "name": "stdout",
     "output_type": "stream",
     "text": [
      "+-------------------+------------------+------------------+-----------------+------------------+-----------------+------------------+-------------------+---------------------+\n",
      "|has_offer_completed|          mean_age|        stddev_age|      mean_credit|     stddev_credit|   mean_min_value|  stddev_min_value|mean_discount_value|stddev_discount_value|\n",
      "+-------------------+------------------+------------------+-----------------+------------------+-----------------+------------------+-------------------+---------------------+\n",
      "|                  1| 55.78177588776215|16.848945085967937|69398.28444735215| 21642.38844430909|9.319303601933631| 4.221124809686318|  4.956747719259986|    2.904575018912144|\n",
      "|                  0|51.738513261113184| 18.00163562655068|58589.09226746358|19971.073672570034|10.21417009089777|4.7791864949131835| 5.7705142572531445|    3.069217020187086|\n",
      "+-------------------+------------------+------------------+-----------------+------------------+-----------------+------------------+-------------------+---------------------+\n",
      "\n"
     ]
    }
   ],
   "source": [
    "# Média e desvio padrão por grupo\n",
    "final_data.groupBy(\"has_offer_completed\").agg(\n",
    "    mean(\"age\").alias(\"mean_age\"),\n",
    "    stddev(\"age\").alias(\"stddev_age\"),\n",
    "    mean(\"credit_card_limit\").alias(\"mean_credit\"),\n",
    "    stddev(\"credit_card_limit\").alias(\"stddev_credit\"),\n",
    "    mean(\"min_value\").alias(\"mean_min_value\"),\n",
    "    stddev(\"min_value\").alias(\"stddev_min_value\"),\n",
    "    mean(\"discount_value\").alias(\"mean_discount_value\"),\n",
    "    stddev(\"discount_value\").alias(\"stddev_discount_value\"),\n",
    ").show()"
   ]
  },
  {
   "cell_type": "code",
   "execution_count": 26,
   "id": "3454882e-5ed2-4ba5-b733-4086c4cf211c",
   "metadata": {},
   "outputs": [
    {
     "name": "stdout",
     "output_type": "stream",
     "text": [
      "+------+-----+-----------+------------------+\n",
      "|gender|total|conversions|   conversion_rate|\n",
      "+------+-----+-----------+------------------+\n",
      "|     F|18207|      13259|0.7282363925962542|\n",
      "|     M|25368|      14254|0.5618889940081994|\n",
      "+------+-----+-----------+------------------+\n",
      "\n"
     ]
    }
   ],
   "source": [
    "#taxa de conversão por gênero\n",
    "final_data.groupBy(\"gender\").agg(\n",
    "    count(\"*\").alias(\"total\"),\n",
    "    sum(\"has_offer_completed\").alias(\"conversions\"),\n",
    "    (sum(\"has_offer_completed\") / count(\"*\")).alias(\"conversion_rate\")\n",
    ").show()"
   ]
  },
  {
   "cell_type": "code",
   "execution_count": 27,
   "id": "d86bc022-5b5a-4035-86b2-dfb641e8335a",
   "metadata": {},
   "outputs": [
    {
     "name": "stdout",
     "output_type": "stream",
     "text": [
      "+----------+-----+-----------+------------------+\n",
      "|offer_type|total|conversions|   conversion_rate|\n",
      "+----------+-----+-----------+------------------+\n",
      "|  discount|21816|      14525|0.6657957462412908|\n",
      "|      bogo|21759|      12988|0.5969024311779034|\n",
      "+----------+-----+-----------+------------------+\n",
      "\n"
     ]
    }
   ],
   "source": [
    "# taxa de conversão por offer_type\n",
    "final_data.groupBy(\"offer_type\").agg(\n",
    "    count(\"*\").alias(\"total\"),\n",
    "    sum(\"has_offer_completed\").alias(\"conversions\"),\n",
    "    (sum(\"has_offer_completed\") / count(\"*\")).alias(\"conversion_rate\")\n",
    ").show()"
   ]
  },
  {
   "cell_type": "code",
   "execution_count": 28,
   "id": "f4c8ca01-e9ca-4a80-97b5-f20d3fe0df9c",
   "metadata": {},
   "outputs": [
    {
     "name": "stdout",
     "output_type": "stream",
     "text": [
      "+--------------------+-----+-----------+------------------+\n",
      "|            offer_id|total|conversions|   conversion_rate|\n",
      "+--------------------+-----+-----------+------------------+\n",
      "|0b1e1539f2cc45b7b...| 5511|       2893|0.5249500998003992|\n",
      "|4d5c57ea9a6940dd8...| 5449|       2824| 0.518260231235089|\n",
      "|9b98b8c7a33c4b65b...| 5456|       3565|0.6534090909090909|\n",
      "|f19421c1d4aa40978...| 5368|       3503|0.6525707898658718|\n",
      "|fafdcd668e3743c1b...| 5472|       4194|0.7664473684210527|\n",
      "|ae264e3637204a6fb...| 5486|       3096|0.5643456069996354|\n",
      "|2298d6c36e964ae4a...| 5426|       4106|0.7567268706229267|\n",
      "|2906b810c7d441179...| 5407|       3332|0.6162382097281301|\n",
      "+--------------------+-----+-----------+------------------+\n",
      "\n"
     ]
    }
   ],
   "source": [
    "# taxa de conversão por offer_type\n",
    "final_data.groupBy(\"offer_id\").agg(\n",
    "    count(\"*\").alias(\"total\"),\n",
    "    sum(\"has_offer_completed\").alias(\"conversions\"),\n",
    "    (sum(\"has_offer_completed\") / count(\"*\")).alias(\"conversion_rate\")\n",
    ").show()"
   ]
  },
  {
   "cell_type": "code",
   "execution_count": 29,
   "id": "07a3b762-7442-4fdb-826b-d8885f29bd88",
   "metadata": {},
   "outputs": [
    {
     "name": "stdout",
     "output_type": "stream",
     "text": [
      "+------+-----+-----------+------------------+\n",
      "|mobile|total|conversions|   conversion_rate|\n",
      "+------+-----+-----------+------------------+\n",
      "|     1|38064|      24620|0.6468053804119378|\n",
      "|     0| 5511|       2893|0.5249500998003992|\n",
      "+------+-----+-----------+------------------+\n",
      "\n",
      "+------+-----+-----------+------------------+\n",
      "|social|total|conversions|   conversion_rate|\n",
      "+------+-----+-----------+------------------+\n",
      "|     1|27201|      17723|0.6515569280541157|\n",
      "|     0|16374|       9790|0.5978991083424942|\n",
      "+------+-----+-----------+------------------+\n",
      "\n",
      "+---+-----+-----------+------------------+\n",
      "|web|total|conversions|   conversion_rate|\n",
      "+---+-----+-----------+------------------+\n",
      "|  1|38089|      24417| 0.641051222137625|\n",
      "|  0| 5486|       3096|0.5643456069996354|\n",
      "+---+-----+-----------+------------------+\n",
      "\n"
     ]
    }
   ],
   "source": [
    "#Mesma ideia para os canais mobile, social, web (que são binários)\n",
    "for channel in [\"mobile\", \"social\", \"web\"]:\n",
    "    final_data.groupBy(channel).agg(\n",
    "        count(\"*\").alias(\"total\"),\n",
    "        sum(\"has_offer_completed\").alias(\"conversions\"),\n",
    "        (sum(\"has_offer_completed\") / count(\"*\")).alias(\"conversion_rate\")\n",
    "    ).show()"
   ]
  },
  {
   "cell_type": "markdown",
   "id": "e0d5f516-53ef-4997-b95e-8d803c63b42f",
   "metadata": {},
   "source": [
    "## Insights: \n",
    "\n",
    "A análise de gênero revela uma diferença significativa na taxa de conversão, com mulheres apresentando uma taxa de quase 73% contra 56% dos homens. Isso pode indicar uma maior receptividade do público feminino às ofertas ou uma segmentação mais eficaz para este grupo.\n",
    "\n",
    "As ofertas de discount têm uma taxa de conversão ligeiramente maior (66.5%) em comparação com as bogo (59.6%). Isso pode ser devido à natureza mais direta e simples de uma oferta de desconto, enquanto as ofertas BOGO (Compre Um, Leve Outro) podem exigir uma compra maior ou mais específica.\n",
    "\n",
    "Existem duas combinações de offers que estão com mais de 75% de conversão, outras duas apenas 52% e as outras por volta dos 60%.\n",
    "\n",
    "Em relação ao canais de mkt, nota-se que quanto mais canais, melhor. Porém o que tem o menor impacto quando não utilizado é o social."
   ]
  },
  {
   "cell_type": "markdown",
   "id": "cd837b5b-60d3-45d8-b62d-1c2b4ae98ad4",
   "metadata": {},
   "source": [
    "## \n",
    "Para preparar os dados para o modelo de machine learning, é necessário codificar as variáveis categóricas em formatos numéricos. As variáveis offer_type (bogo e discount) e gender (M e F) são transformadas em variáveis binárias (0 e 1). Essa etapa é fundamental para que o modelo possa processar essas informações corretamente."
   ]
  },
  {
   "cell_type": "code",
   "execution_count": 30,
   "id": "95a34312-2051-413c-9972-da76424551c1",
   "metadata": {},
   "outputs": [],
   "source": [
    "final_data = final_data.withColumn(\n",
    "    \"offer_type\",\n",
    "    when(col(\"offer_type\") == \"bogo\", 0).otherwise(1)\n",
    ")\n",
    "\n",
    "final_data = final_data.withColumn(\n",
    "    \"gender\",\n",
    "    when(col(\"gender\") == \"M\", 0).otherwise(1)\n",
    ")\n"
   ]
  },
  {
   "cell_type": "code",
   "execution_count": 31,
   "id": "926ff797-caba-4ef0-a57c-3dc7ada88d8a",
   "metadata": {},
   "outputs": [
    {
     "name": "stdout",
     "output_type": "stream",
     "text": [
      "+--------------------+--------------------+-------------------+---+------+-----------------+----------+---------+--------------+------+------+---+\n",
      "|            offer_id|          account_id|has_offer_completed|age|gender|credit_card_limit|offer_type|min_value|discount_value|mobile|social|web|\n",
      "+--------------------+--------------------+-------------------+---+------+-----------------+----------+---------+--------------+------+------+---+\n",
      "|f19421c1d4aa40978...|0861b9ca31b741bb8...|                  1| 73|     0|          92000.0|         0|        5|             5|     1|     1|  1|\n",
      "|4d5c57ea9a6940dd8...|523e2d85f3d94eefb...|                  1| 47|     1|          65000.0|         0|       10|            10|     1|     1|  1|\n",
      "|2906b810c7d441179...|d57bd2200e7b44c6b...|                  0| 56|     0|          47000.0|         1|       10|             2|     1|     0|  1|\n",
      "|9b98b8c7a33c4b65b...|16fb582d943d42c4a...|                  1| 57|     1|          38000.0|         0|        5|             5|     1|     0|  1|\n",
      "|4d5c57ea9a6940dd8...|0cfb5a7caa0e4bc89...|                  1| 49|     1|         104000.0|         0|       10|            10|     1|     1|  1|\n",
      "|2906b810c7d441179...|f16dd6ace9f94998b...|                  1| 54|     1|          43000.0|         1|       10|             2|     1|     0|  1|\n",
      "|2906b810c7d441179...|19123568af6b42d4a...|                  0| 68|     0|          33000.0|         1|       10|             2|     1|     0|  1|\n",
      "|9b98b8c7a33c4b65b...|ef8216e6e8c44ce08...|                  1| 61|     0|          34000.0|         0|        5|             5|     1|     0|  1|\n",
      "|9b98b8c7a33c4b65b...|bd1e687ace0b4d62a...|                  0| 40|     0|          41000.0|         0|        5|             5|     1|     0|  1|\n",
      "|4d5c57ea9a6940dd8...|10af934bbfb641a49...|                  1| 64|     1|         108000.0|         0|       10|            10|     1|     1|  1|\n",
      "|9b98b8c7a33c4b65b...|29033cded35c48d99...|                  1| 74|     1|          39000.0|         0|        5|             5|     1|     0|  1|\n",
      "|f19421c1d4aa40978...|42047da7b4444c408...|                  1| 47|     0|          46000.0|         0|        5|             5|     1|     1|  1|\n",
      "|9b98b8c7a33c4b65b...|797a3cf770b645759...|                  0| 64|     1|          81000.0|         0|        5|             5|     1|     0|  1|\n",
      "|4d5c57ea9a6940dd8...|985cee18d3924059a...|                  0| 76|     0|          69000.0|         0|       10|            10|     1|     1|  1|\n",
      "|ae264e3637204a6fb...|98da26ac30d94be69...|                  1| 45|     0|          93000.0|         0|       10|            10|     1|     1|  0|\n",
      "|2298d6c36e964ae4a...|bdcbab43c2f34ca2a...|                  1| 49|     0|          70000.0|         1|        7|             3|     1|     1|  1|\n",
      "|0b1e1539f2cc45b7b...|1aa26e8aea6440de9...|                  0| 69|     0|          48000.0|         1|       20|             5|     0|     0|  1|\n",
      "|2906b810c7d441179...|ef3151875cd7450c8...|                  0| 55|     1|         108000.0|         1|       10|             2|     1|     0|  1|\n",
      "|2298d6c36e964ae4a...|954b214031734fff8...|                  0| 46|     0|          59000.0|         1|        7|             3|     1|     1|  1|\n",
      "|fafdcd668e3743c1b...|d0ab05be7544435f9...|                  1| 44|     1|          62000.0|         1|       10|             2|     1|     1|  1|\n",
      "+--------------------+--------------------+-------------------+---+------+-----------------+----------+---------+--------------+------+------+---+\n",
      "only showing top 20 rows\n"
     ]
    }
   ],
   "source": [
    "final_data.show()"
   ]
  },
  {
   "cell_type": "code",
   "execution_count": 32,
   "id": "ceff290a-b3fa-47c3-95bd-04c112a3d567",
   "metadata": {},
   "outputs": [
    {
     "name": "stdout",
     "output_type": "stream",
     "text": [
      "+-------------------+-----+\n",
      "|has_offer_completed|count|\n",
      "+-------------------+-----+\n",
      "|                  1|27513|\n",
      "|                  0|16062|\n",
      "+-------------------+-----+\n",
      "\n"
     ]
    }
   ],
   "source": [
    "final_data.groupby(\"has_offer_completed\").count().show()"
   ]
  },
  {
   "cell_type": "code",
   "execution_count": null,
   "id": "a7b1698b-68b7-4ec2-9a79-5606b1115dc7",
   "metadata": {},
   "outputs": [],
   "source": [
    "final_data.write.mode(\"overwrite\").parquet(\"../data/processed/final_data_numeric.parquet\")"
   ]
  },
  {
   "cell_type": "code",
   "execution_count": null,
   "id": "106f23eb-3345-4938-a355-4f251e6ebf75",
   "metadata": {},
   "outputs": [],
   "source": []
  }
 ],
 "metadata": {
  "kernelspec": {
   "display_name": "Python 3 (ipykernel)",
   "language": "python",
   "name": "python3"
  },
  "language_info": {
   "codemirror_mode": {
    "name": "ipython",
    "version": 3
   },
   "file_extension": ".py",
   "mimetype": "text/x-python",
   "name": "python",
   "nbconvert_exporter": "python",
   "pygments_lexer": "ipython3",
   "version": "3.11.7"
  }
 },
 "nbformat": 4,
 "nbformat_minor": 5
}
